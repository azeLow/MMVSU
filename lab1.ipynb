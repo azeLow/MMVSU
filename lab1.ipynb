{
  "nbformat": 4,
  "nbformat_minor": 0,
  "metadata": {
    "colab": {
      "provenance": [],
      "authorship_tag": "ABX9TyNT0j+IilqlCPjB0NgiF8BI",
      "include_colab_link": true
    },
    "kernelspec": {
      "name": "python3",
      "display_name": "Python 3"
    },
    "language_info": {
      "name": "python"
    }
  },
  "cells": [
    {
      "cell_type": "markdown",
      "metadata": {
        "id": "view-in-github",
        "colab_type": "text"
      },
      "source": [
        "<a href=\"https://colab.research.google.com/github/azeLow/MMVSU/blob/main/lab1.ipynb\" target=\"_parent\"><img src=\"https://colab.research.google.com/assets/colab-badge.svg\" alt=\"Open In Colab\"/></a>"
      ]
    },
    {
      "cell_type": "code",
      "execution_count": null,
      "metadata": {
        "id": "gR9FF1rBYg8b"
      },
      "outputs": [],
      "source": []
    },
    {
      "cell_type": "markdown",
      "source": [
        "# Лабораторная работа №1\n",
        "\n"
      ],
      "metadata": {
        "id": "s73SHzBnYhlD"
      }
    },
    {
      "cell_type": "markdown",
      "source": [],
      "metadata": {
        "id": "53-yV_DkYh3L"
      }
    },
    {
      "cell_type": "markdown",
      "source": [
        "## Нормер 1 \n",
        "$y'=k*x$\n"
      ],
      "metadata": {
        "id": "YAvr94hFeYBD"
      }
    },
    {
      "cell_type": "code",
      "source": [
        "import matplotlib.pyplot as plt \n",
        "import numpy as np \n",
        "from scipy.integrate import odeint \n",
        "\n",
        "def dydt(y, t):\n",
        "    k = 0.42\n",
        "    return k * y\n",
        "\n",
        "t = np.linspace(0, 10 ,100)\n",
        "solve = odeint(dydt, y0=1, t=t)\n",
        "solve.flatten()\n",
        "\n",
        "%matplotlib inline\n",
        "\n",
        "plt.plot(t, solve, label = r\"$y' = ky$\")\n",
        "plt.grid(True)\n",
        "plt.legend()\n",
        "plt.show"
      ],
      "metadata": {
        "colab": {
          "base_uri": "https://localhost:8080/",
          "height": 282
        },
        "id": "y4vWKzEwYlzp",
        "outputId": "149c033a-233a-4150-a132-c20ac02e6dc0"
      },
      "execution_count": 3,
      "outputs": [
        {
          "output_type": "execute_result",
          "data": {
            "text/plain": [
              "<function matplotlib.pyplot.show(close=None, block=None)>"
            ]
          },
          "metadata": {},
          "execution_count": 3
        },
        {
          "output_type": "display_data",
          "data": {
            "text/plain": [
              "<Figure size 432x288 with 1 Axes>"
            ],
            "image/png": "[encoded data removed]"
          },
          "metadata": {
            "needs_background": "light"
          }
        }
      ]
    },
    {
      "cell_type": "markdown",
      "source": [
        "## Номер 2\n",
        "$x'=k(x)*x$\n",
        "$k(x)=ax+b$"
      ],
      "metadata": {
        "id": "zUFylKRQenZo"
      }
    },
    {
      "cell_type": "code",
      "source": [
        "import matplotlib.pyplot as plt \n",
        "import numpy as np \n",
        "from scipy.integrate import odeint \n",
        "\n",
        "def dydt(x, t):\n",
        "    return k(x) * x\n",
        "\n",
        "def k(x):\n",
        "  return 1*x - 1 \n",
        "\n",
        "\n",
        "t = np.linspace(0, 10 ,100)\n",
        "solve = odeint(dydt, y0=1, t=t)\n",
        "solve.flatten()\n",
        "\n",
        "%matplotlib inline\n",
        "\n",
        "plt.plot(t, solve, label = r\"$y' = k(y)*y$\")\n",
        "plt.grid(True)\n",
        "plt.legend()\n",
        "plt.show"
      ],
      "metadata": {
        "colab": {
          "base_uri": "https://localhost:8080/",
          "height": 282
        },
        "id": "tIFwQ_PdZo6M",
        "outputId": "6caacde6-4aff-44fa-d4f1-e6c3f6caff5f"
      },
      "execution_count": 6,
      "outputs": [
        {
          "output_type": "execute_result",
          "data": {
            "text/plain": [
              "<function matplotlib.pyplot.show(close=None, block=None)>"
            ]
          },
          "metadata": {},
          "execution_count": 6
        },
        {
          "output_type": "display_data",
          "data": {
            "text/plain": [
              "<Figure size 432x288 with 1 Axes>"
            ],
            "image/png": "[encoded data removed]"
          },
          "metadata": {
            "needs_background": "light"
          }
        }
      ]
    },
    {
      "cell_type": "markdown",
      "source": [
        "## Номер 3\n",
        "$x'=k(x)*x-c$\n",
        "$k(x)=a*x+b$\n",
        "$a = 1, b = -1$\n",
        "$c=4$"
      ],
      "metadata": {
        "id": "rKdNXDFefAdc"
      }
    },
    {
      "cell_type": "code",
      "source": [
        "import matplotlib.pyplot as plt \n",
        "import numpy as np \n",
        "from scipy.integrate import odeint \n",
        "\n",
        "def dydt(x, t):\n",
        "    c = 4\n",
        "    return k(x) * x - c \n",
        "\n",
        "def k(x):\n",
        "  return 1*x - 1 \n",
        "\n",
        "\n",
        "t = np.linspace(0, 10 ,100)\n",
        "solve = odeint(dydt, y0=1, t=t)\n",
        "solve.flatten()\n",
        "\n",
        "%matplotlib inline\n",
        "\n",
        "plt.plot(t, solve, label = r\"$y' = k(y)*y-c$\")\n",
        "plt.grid(True)\n",
        "plt.legend()\n",
        "plt.show"
      ],
      "metadata": {
        "colab": {
          "base_uri": "https://localhost:8080/",
          "height": 282
        },
        "id": "vE1agcaYdD3c",
        "outputId": "e125ad59-fcf9-44a3-b009-623d348d477c"
      },
      "execution_count": 8,
      "outputs": [
        {
          "output_type": "execute_result",
          "data": {
            "text/plain": [
              "<function matplotlib.pyplot.show(close=None, block=None)>"
            ]
          },
          "metadata": {},
          "execution_count": 8
        },
        {
          "output_type": "display_data",
          "data": {
            "text/plain": [
              "<Figure size 432x288 with 1 Axes>"
            ],
            "image/png": "[encoded data removed]"
          },
          "metadata": {
            "needs_background": "light"
          }
        }
      ]
    },
    {
      "cell_type": "markdown",
      "source": [
        "## Номер 4\n",
        "$x'=k(x)x-c(x)$\\\n",
        "$k(x)=ax+b$\\\n",
        "$a = 1, b = -1$\\\n",
        "$c(x)=f*x$\\\n",
        "$f = 2$\n"
      ],
      "metadata": {
        "id": "rLe_WcO8fVBR"
      }
    },
    {
      "cell_type": "code",
      "source": [
        "import matplotlib.pyplot as plt \n",
        "import numpy as np \n",
        "from scipy.integrate import odeint \n",
        "\n",
        "def dydt(x, t):\n",
        "    return k(x) * x - c(x)\n",
        "\n",
        "def k(x):\n",
        "  return 1*x - 1 \n",
        "\n",
        "def c(x):\n",
        "  f = 2\n",
        "  return f*x\n",
        "\n",
        "\n",
        "t = np.linspace(0, 10 ,100)\n",
        "solve = odeint(dydt, y0=1, t=t)\n",
        "solve.flatten()\n",
        "\n",
        "%matplotlib inline\n",
        "\n",
        "plt.plot(t, solve, label = r\"$y' = k(y)*y-c(x)$\")\n",
        "plt.grid(True)\n",
        "plt.legend()\n",
        "plt.show"
      ],
      "metadata": {
        "colab": {
          "base_uri": "https://localhost:8080/",
          "height": 282
        },
        "id": "w93l8lphda8_",
        "outputId": "fa10e291-7a6b-4ecc-b8b3-7d317846f042"
      },
      "execution_count": 11,
      "outputs": [
        {
          "output_type": "execute_result",
          "data": {
            "text/plain": [
              "<function matplotlib.pyplot.show(close=None, block=None)>"
            ]
          },
          "metadata": {},
          "execution_count": 11
        },
        {
          "output_type": "display_data",
          "data": {
            "text/plain": [
              "<Figure size 432x288 with 1 Axes>"
            ],
            "image/png": "[encoded data removed]"
          },
          "metadata": {
            "needs_background": "light"
          }
        }
      ]
    }
  ]
}
